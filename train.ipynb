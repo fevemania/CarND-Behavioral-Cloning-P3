{
 "cells": [
  {
   "cell_type": "code",
   "execution_count": null,
   "metadata": {
    "collapsed": true,
    "deletable": true,
    "editable": true
   },
   "outputs": [],
   "source": [
    "import pandas as pd\n",
    "import numpy as np\n",
    "import cv2\n",
    "import matplotlib.pyplot as plt\n",
    "%matplotlib inline"
   ]
  },
  {
   "cell_type": "code",
   "execution_count": null,
   "metadata": {
    "collapsed": false,
    "deletable": true,
    "editable": true
   },
   "outputs": [],
   "source": [
    "# read data\n",
    "\n",
    "# filename = './data/driving_log.csv'\n",
    "filename = './record/driving_log.csv'\n",
    "df = pd.read_csv(filename, float_precision='high')\n",
    "data = df.values\n",
    "\n",
    "print(df.head())"
   ]
  },
  {
   "cell_type": "code",
   "execution_count": null,
   "metadata": {
    "collapsed": false,
    "deletable": true,
    "editable": true
   },
   "outputs": [],
   "source": [
    "images = []\n",
    "measurements = []\n",
    "for line in data:\n",
    "    img_path = line[0]\n",
    "    image = cv2.imread(img_path)    \n",
    "#     image = cv2.imread(\"./data/\" + img_path)\n",
    "    image = cv2.cvtColor(image, cv2.COLOR_BGR2RGB)\n",
    "#     image = cv2.cvtColor(image, cv2.COLOR_BGR2GRAY)\n",
    "    images.append(image)\n",
    "    \n",
    "    measurement = float(line[3])\n",
    "    measurements.append(measurement)\n",
    "    \n",
    "num_samples = len(images)\n",
    "\n",
    "# X_train = np.array(images).reshape(num_samples, images[0].shape[0], images[0].shape[1], 1)\n",
    "X_train = np.array(images)\n",
    "y_train = np.array(measurements)"
   ]
  },
  {
   "cell_type": "code",
   "execution_count": null,
   "metadata": {
    "collapsed": false,
    "deletable": true,
    "editable": true
   },
   "outputs": [],
   "source": [
    "# data overview\n",
    "\n",
    "print(X_train.shape)\n",
    "print(y_train.shape)\n",
    "print(X_train.dtype)\n",
    "print(y_train.dtype)"
   ]
  },
  {
   "cell_type": "code",
   "execution_count": null,
   "metadata": {
    "collapsed": false
   },
   "outputs": [],
   "source": [
    "# # data normalize\n",
    "\n",
    "# # First we should change type of features from int8 to float32 in order to do normalize\n",
    "# X_train = X_train.astype(np.float32)\n",
    "\n",
    "# # Then set flags for feature engineering tasks I am going to do.  This will prevent me from skipping an important step.\n",
    "# is_features_normal = False\n",
    "\n",
    "# def normalize_dataset(image_data):\n",
    "#     \"\"\"\n",
    "#     Normalize the image data\n",
    "#     :param image_data: The image data to be normalized\n",
    "#     :return: Normalized image data\n",
    "#     \"\"\"    \n",
    "#     # +, -, *, / in np.array will automatically broadcast to every element\n",
    "#     return (image_data - 128.)/128\n",
    "\n",
    "# if not is_features_normal:\n",
    "#     print(\"Normalizing ...\")\n",
    "#     X_train = normalize_dataset(X_train)\n",
    "#     is_features_normal = True\n",
    "\n",
    "# print(\"Finish Normalization !\")\n",
    "\n",
    "# # Make sure we do Normalization before training the model\n",
    "# assert is_features_normal, 'You skipped the step to normalize the features'"
   ]
  },
  {
   "cell_type": "code",
   "execution_count": null,
   "metadata": {
    "collapsed": false,
    "deletable": true,
    "editable": true
   },
   "outputs": [],
   "source": [
    "from keras.models import Sequential\n",
    "from keras.layers import Flatten, Dense, Lambda\n",
    "from keras.layers import Conv2D, MaxPooling2D, Dropout"
   ]
  },
  {
   "cell_type": "code",
   "execution_count": null,
   "metadata": {
    "collapsed": false
   },
   "outputs": [],
   "source": [
    "# This is a regression network\n",
    "\n",
    "# here we do two preprocessing\n",
    "# (1) normalize the data\n",
    "# (2) mean centering the data\n",
    "input_shape = X_train[0].shape\n",
    "\n",
    "model = Sequential()\n",
    "model.add(Lambda(lambda x: (x / 255.0) - 0.5, input_shape=input_shape))\n",
    "model.add(Conv2D(32, kernel_size=(11, 11),\n",
    "                activation='relu'))\n",
    "model.add(MaxPooling2D(pool_size=(2,2)))\n",
    "model.add(Conv2D(64, kernel_size=(7, 7),\n",
    "                activation='relu'))\n",
    "model.add(MaxPooling2D(pool_size=(2,2)))\n",
    "model.add(Conv2D(128, kernel_size=(5, 5),\n",
    "                activation='relu'))\n",
    "model.add(MaxPooling2D(pool_size=(2,2)))\n",
    "model.add(Conv2D(128, kernel_size=(5, 5),\n",
    "                activation='relu'))\n",
    "model.add(MaxPooling2D(pool_size=(2,2)))\n",
    "model.add(Conv2D(256, kernel_size=(3, 3)))\n",
    "model.add(Flatten())\n",
    "model.add(Dense(2048, activation='relu'))\n",
    "model.add(Dropout(0.5))\n",
    "model.add(Dense(1024, activation='relu'))\n",
    "model.add(Dropout(0.5))\n",
    "model.add(Dense(1))\n",
    "\n",
    "# print(model.summary())\n",
    "\n",
    "\n",
    "model.compile(loss='mse', optimizer='adam')\n",
    "model.fit(X_train, y_train, validation_split=0.2, nb_epoch=5, shuffle=True)\n",
    "\n",
    "model.save('model.h5')"
   ]
  },
  {
   "cell_type": "code",
   "execution_count": null,
   "metadata": {
    "collapsed": true
   },
   "outputs": [],
   "source": []
  }
 ],
 "metadata": {
  "kernelspec": {
   "display_name": "Python 3",
   "language": "python",
   "name": "python3"
  },
  "language_info": {
   "codemirror_mode": {
    "name": "ipython",
    "version": 3
   },
   "file_extension": ".py",
   "mimetype": "text/x-python",
   "name": "python",
   "nbconvert_exporter": "python",
   "pygments_lexer": "ipython3",
   "version": "3.5.2"
  }
 },
 "nbformat": 4,
 "nbformat_minor": 2
}
